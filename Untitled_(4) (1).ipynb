{
  "cells": [
    {
      "cell_type": "code",
      "execution_count": null,
      "metadata": {
        "id": "9b2cb7cb"
      },
      "outputs": [],
      "source": [
        "!pip install numpy\n",
        "!pip install pandas\n",
        "!pip install matplotlib\n",
        "!pip install seaborn\n",
        "!pip install opencv-python\n",
        "!pip install zipfile\n",
        "!pip install pickle\n",
        "!pip install tensorflow\n",
        "!pip install tensorflow-gpu"
      ],
      "id": "9b2cb7cb"
    },
    {
      "cell_type": "code",
      "execution_count": 7,
      "metadata": {
        "id": "ca2a9117"
      },
      "outputs": [],
      "source": [
        "import numpy as np\n",
        "import pandas as pd\n",
        "import matplotlib.pyplot as plt\n",
        "import seaborn as sns\n",
        "import cv2\n",
        "import zipfile\n",
        "import pickle\n",
        "import tensorflow as tf\n",
        "from sklearn.svm import SVC\n",
        "from sklearn.decomposition import PCA\n",
        "import keras\n",
        "from tensorflow.keras.applications import ResNet50, VGG16\n",
        "from tensorflow.keras.utils import to_categorical\n",
        "import joblib\n",
        "import wget"
      ],
      "id": "ca2a9117"
    },
    {
      "cell_type": "code",
      "execution_count": null,
      "metadata": {
        "id": "311b5462"
      },
      "outputs": [],
      "source": [
        "tf.config.list_physical_devices()"
      ],
      "id": "311b5462"
    },
    {
      "cell_type": "markdown",
      "source": [
        "Download the data from [CIFAR-100](https://www.kaggle.com/datasets/fedesoriano/cifar100?resource=download)"
      ],
      "metadata": {
        "id": "8jNyMIVwModT"
      },
      "id": "8jNyMIVwModT"
    },
    {
      "cell_type": "code",
      "execution_count": null,
      "metadata": {
        "id": "b33ff70b"
      },
      "outputs": [],
      "source": [
        "# uncomment and excute this snippet only once\n",
        "\n",
        "with zipfile.ZipFile('archive.zip', 'r') as file:\n",
        "    file.extractall()"
      ],
      "id": "b33ff70b"
    },
    {
      "cell_type": "code",
      "execution_count": null,
      "metadata": {
        "id": "4f8f192b"
      },
      "outputs": [],
      "source": [
        "def unpickle(file):\n",
        "    with open(file, 'rb') as fo:\n",
        "        dict = pickle.load(fo, encoding='bytes')\n",
        "    return dict"
      ],
      "id": "4f8f192b"
    },
    {
      "cell_type": "code",
      "execution_count": null,
      "metadata": {
        "id": "e19eb15d"
      },
      "outputs": [],
      "source": [
        "train_data = unpickle('train')\n",
        "test_data = unpickle('test')\n",
        "meta_data = unpickle('meta')"
      ],
      "id": "e19eb15d"
    },
    {
      "cell_type": "markdown",
      "metadata": {
        "id": "991c1f70"
      },
      "source": [
        "<h2>Constructing data frames from dict data</h2>"
      ],
      "id": "991c1f70"
    },
    {
      "cell_type": "code",
      "execution_count": null,
      "metadata": {
        "id": "384747d8"
      },
      "outputs": [],
      "source": [
        "superclass_train = train_data[b'coarse_labels']\n",
        "super_labels = list(map(lambda x: x.decode(), meta_data[b'coarse_label_names']))\n",
        "image_data = train_data[b'data']"
      ],
      "id": "384747d8"
    },
    {
      "cell_type": "code",
      "execution_count": null,
      "metadata": {
        "id": "5e6afea9"
      },
      "outputs": [],
      "source": [
        "train = pd.DataFrame(image_data) / 255.0\n",
        "train['Super Class'] = superclass_train\n",
        "\n",
        "X_train, y_train = train.drop([\"Super Class\"], axis=1), train[\"Super Class\"]\n",
        "\n",
        "X_valid, y_valid = X_train[45000:] , y_train[45000:]\n",
        "X_train, y_train = X_train[:40000] , y_train[:40000]"
      ],
      "id": "5e6afea9"
    },
    {
      "cell_type": "code",
      "execution_count": null,
      "metadata": {
        "id": "5da959df"
      },
      "outputs": [],
      "source": [
        "subclass_test = test_data[b'fine_labels']\n",
        "superclass_test = test_data[b'coarse_labels'] \n",
        "image_data = test_data[b'data']"
      ],
      "id": "5da959df"
    },
    {
      "cell_type": "code",
      "execution_count": null,
      "metadata": {
        "id": "9760cfca"
      },
      "outputs": [],
      "source": [
        "test = pd.DataFrame(image_data) / 255.0\n",
        "test['Super Class'] = superclass_test\n",
        "\n",
        "X_test, y_test = test.drop([\"Super Class\"], axis=1), test[\"Super Class\"]"
      ],
      "id": "9760cfca"
    },
    {
      "cell_type": "code",
      "execution_count": null,
      "metadata": {
        "id": "945203bd"
      },
      "outputs": [],
      "source": [
        "train.head()"
      ],
      "id": "945203bd"
    },
    {
      "cell_type": "markdown",
      "metadata": {
        "id": "ed195963"
      },
      "source": [
        "<h2>Showing sample images</h2>"
      ],
      "id": "ed195963"
    },
    {
      "cell_type": "code",
      "execution_count": null,
      "metadata": {
        "id": "b8305a39"
      },
      "outputs": [],
      "source": [
        "def plot_samples(data, start, end):\n",
        "    for i in range(start, end):\n",
        "        im = np.array(data.iloc[i, :-1])\n",
        "    \n",
        "        im_r = im[0:1024].reshape(32, 32)\n",
        "        im_g = im[1024:2048].reshape(32, 32)\n",
        "        im_b = im[2048:].reshape(32, 32)\n",
        "\n",
        "        img = np.dstack((im_r, im_g, im_b))\n",
        "        \n",
        "        plt.imshow(img)\n",
        "        plt.show()"
      ],
      "id": "b8305a39"
    },
    {
      "cell_type": "code",
      "execution_count": null,
      "metadata": {
        "id": "7cc08a40",
        "scrolled": true
      },
      "outputs": [],
      "source": [
        "plot_samples(train, 10, 13)"
      ],
      "id": "7cc08a40"
    },
    {
      "cell_type": "code",
      "source": [
        "def acc(y_pred, y_test):\n",
        "  count = 0\n",
        "\n",
        "  for i in range(len(y_pred)):\n",
        "    if(y_pred[i] == y_test[i]):\n",
        "     count += 1\n",
        "\n",
        "  return count / len(y_pred)"
      ],
      "metadata": {
        "id": "gF3_KY6zKIDX"
      },
      "id": "gF3_KY6zKIDX",
      "execution_count": null,
      "outputs": []
    },
    {
      "cell_type": "markdown",
      "source": [
        "<h1>SVM</h1>"
      ],
      "metadata": {
        "id": "v9VF-jF7I9B9"
      },
      "id": "v9VF-jF7I9B9"
    },
    {
      "cell_type": "code",
      "execution_count": null,
      "metadata": {
        "id": "aae2f15a"
      },
      "outputs": [],
      "source": [
        "pca = PCA(n_components=0.97)"
      ],
      "id": "aae2f15a"
    },
    {
      "cell_type": "code",
      "execution_count": null,
      "metadata": {
        "id": "afa9789d"
      },
      "outputs": [],
      "source": [
        "X_train_reduced = pca.fit_transform(X_train)\n",
        "X_test_reduced = pca.transform(X_test)"
      ],
      "id": "afa9789d"
    },
    {
      "cell_type": "code",
      "execution_count": null,
      "metadata": {
        "id": "f2104e67"
      },
      "outputs": [],
      "source": [
        "svm = SVC()"
      ],
      "id": "f2104e67"
    },
    {
      "cell_type": "code",
      "execution_count": null,
      "metadata": {
        "colab": {
          "base_uri": "https://localhost:8080/"
        },
        "id": "73db8397",
        "outputId": "1c387653-9746-4fda-d67a-1dc6aabb846f"
      },
      "outputs": [
        {
          "output_type": "execute_result",
          "data": {
            "text/plain": [
              "SVC()"
            ]
          },
          "metadata": {},
          "execution_count": 14
        }
      ],
      "source": [
        "svm.fit(X_train_reduced, y_train)"
      ],
      "id": "73db8397"
    },
    {
      "cell_type": "code",
      "execution_count": null,
      "metadata": {
        "id": "5b573dd7"
      },
      "outputs": [],
      "source": [
        "y_pred = svm.predict(X_test_reduced)"
      ],
      "id": "5b573dd7"
    },
    
    {
      "cell_type": "code",
      "source": [
        "svc_acc = acc(y_pred, y_test)"
      ],
      "metadata": {
        "id": "Z_HkQ3u0LMts"
      },
      "id": "Z_HkQ3u0LMts",
      "execution_count": null,
      "outputs": []
    },
    {
      "cell_type": "code",
      "execution_count": null,
      "metadata": {
        "id": "A0N8B2ZT4NjT"
      },
      "outputs": [],
      "source": [
        "joblib.dump(svm, \"SVC_0.97\")"
      ],
      "id": "A0N8B2ZT4NjT"
    },
    {
      "cell_type": "markdown",
      "source": [
        "<h1>MY CNN</h1>"
      ],
      "metadata": {
        "id": "j_75n_bmJER7"
      },
      "id": "j_75n_bmJER7"
    },
    {
      "cell_type": "code",
      "source": [
        "X_train = np.array(X_train).reshape(len(X_train),3,32,32).transpose(0, 2, 3, 1)\n",
        "X_valid = np.array(X_valid).reshape(len(X_valid),3,32,32).transpose(0, 2, 3, 1)\n",
        "X_test = np.array(X_test).reshape(len(X_test),3,32,32).transpose(0, 2, 3, 1)\n",
        "\n",
        "\n",
        "y_train = to_categorical(y_train)\n",
        "y_valid = to_categorical(y_valid)\n",
        "y_test = to_categorical(y_test)"
      ],
      "metadata": {
        "id": "xOoIkGr0E3OP"
      },
      "id": "xOoIkGr0E3OP",
      "execution_count": null,
      "outputs": []
    },
    {
      "cell_type": "code",
      "source": [
        "my_cnn_model = keras.models.Sequential([\n",
        "                               keras.layers.Conv2D(64, 7, activation=\"relu\", padding=\"same\",input_shape=[28, 28, 1]),\n",
        "                               keras.layers.MaxPooling2D(2),\\\n",
        "                               keras.layers.Conv2D(64, 3, activation=\"relu\", padding=\"same\"),\n",
        "                               keras.layers.Conv2D(64, 3, activation=\"relu\", padding=\"same\"),\n",
        "                               keras.layers.MaxPooling2D(2),\n",
        "                               keras.layers.Conv2D(128, 3, activation=\"relu\", padding=\"same\"),\n",
        "                               keras.layers.Conv2D(128, 3, activation=\"relu\", padding=\"same\"),\n",
        "                               keras.layers.MaxPooling2D(2),\n",
        "                               keras.layers.Conv2D(256, 3, activation=\"relu\", padding=\"same\"),\n",
        "                               keras.layers.Conv2D(256, 3, activation=\"relu\", padding=\"same\"),\n",
        "                               keras.layers.MaxPooling2D(2),\n",
        "                               keras.layers.Flatten(),\n",
        "                               keras.layers.Dense(225, activation=\"relu\"),\n",
        "                               keras.layers.Dropout(0.5),\n",
        "                               keras.layers.Dense(144, activation=\"relu\"),\n",
        "                               keras.layers.Dropout(0.5),\n",
        "                               keras.layers.Dense(20, activation=\"softmax\")\n",
        "                                ])"
      ],
      "metadata": {
        "id": "PLF-NZOUF9OK"
      },
      "id": "PLF-NZOUF9OK",
      "execution_count": null,
      "outputs": []
    },
    {
      "cell_type": "code",
      "source": [
        "my_cnn_model.compile(loss=\"binary_crossentropy\",\n",
        "              optimizer='adam',\n",
        "              metrics=[\"accuracy\"])"
      ],
      "metadata": {
        "id": "PpIdlcqSF9Q6"
      },
      "id": "PpIdlcqSF9Q6",
      "execution_count": null,
      "outputs": []
    },
    {
      "cell_type": "code",
      "source": [
        "my_cnn_model.summary()"
      ],
      "metadata": {
        "id": "nd_qGJU8F9TU"
      },
      "id": "nd_qGJU8F9TU",
      "execution_count": null,
      "outputs": []
    },
    {
      "cell_type": "code",
      "source": [
        "tf.keras.utils.plot_model(my_cnn_model,\"resnet_model.png\",show_shapes=True)"
      ],
      "metadata": {
        "id": "lOqk0MU7F9Vm"
      },
      "id": "lOqk0MU7F9Vm",
      "execution_count": null,
      "outputs": []
    },
    {
      "cell_type": "code",
      "source": [
        "my_cnn_model.fit(X_train, y_train,\n",
        "          batch_size=64,\n",
        "          epochs = 30,\n",
        "          validation_data=(X_valid, y_valid),\n",
        "          verbose = 1)"
      ],
      "metadata": {
        "id": "eVCbAQbIF9Xx"
      },
      "id": "eVCbAQbIF9Xx",
      "execution_count": null,
      "outputs": []
    },
    {
      "cell_type": "code",
      "source": [
        "y_pred = my_cnn_model.predict(X_test)"
      ],
      "metadata": {
        "id": "dMaXeAWzF9aM"
      },
      "id": "dMaXeAWzF9aM",
      "execution_count": null,
      "outputs": []
    },
    {
      "cell_type": "code",
      "source": [
        "y_pred_n = list(map(lambda x: np.argmax(x), y_pred))\n",
        "y_test_n = list(map(lambda x: np.argmax(x), y_test))"
      ],
      "metadata": {
        "id": "QEJ5vJV-F9dE"
      },
      "id": "QEJ5vJV-F9dE",
      "execution_count": null,
      "outputs": []
    },
    {
      "cell_type": "code",
      "source": [
        "my_cnn_acc = acc(y_pred_n, y_test_n)"
      ],
      "metadata": {
        "id": "d9CvWSqFF9fk"
      },
      "id": "d9CvWSqFF9fk",
      "execution_count": null,
      "outputs": []
    },
    {
      "cell_type": "code",
      "source": [
        "my_cnn_model.save(\"my_cnn.h5\")"
      ],
      "metadata": {
        "id": "HzTUikx2LWVH"
      },
      "id": "HzTUikx2LWVH",
      "execution_count": null,
      "outputs": []
    },
    {
      "cell_type": "markdown",
      "source": [
        "<h1>ResNet50</h1>"
      ],
      "metadata": {
        "id": "uAVyOzCJJJSq"
      },
      "id": "uAVyOzCJJJSq"
    },
    {
      "cell_type": "code",
      "source": [
        "resnet_model = keras.models.Sequential([\n",
        "                               ResNet50(include_top=False, input_shape=(32, 32, 3), pooling='avg'),\n",
        "                               keras.layers.Dense(20, activation=\"softmax\")\n",
        "                                ])"
      ],
      "metadata": {
        "id": "VjpAxMT5Fh5M"
      },
      "id": "VjpAxMT5Fh5M",
      "execution_count": null,
      "outputs": []
    },
    {
      "cell_type": "code",
      "source": [
        "resnet_model.compile(loss=\"categorical_crossentropy\",\n",
        "              optimizer='adam',\n",
        "              metrics=[\"accuracy\"])"
      ],
      "metadata": {
        "id": "PkI4D1ePFh7y"
      },
      "id": "PkI4D1ePFh7y",
      "execution_count": null,
      "outputs": []
    },
    {
      "cell_type": "code",
      "source": [
        "resnet_model.summary()"
      ],
      "metadata": {
        "id": "Yud57qOLFh_1"
      },
      "id": "Yud57qOLFh_1",
      "execution_count": null,
      "outputs": []
    },
    {
      "cell_type": "code",
      "source": [
        "tf.keras.utils.plot_model(resnet_model,\"resnet_model.png\",show_shapes=True)"
      ],
      "metadata": {
        "id": "EEHlPKs_FiCl"
      },
      "id": "EEHlPKs_FiCl",
      "execution_count": null,
      "outputs": []
    },
    {
      "cell_type": "code",
      "source": [
        "resnet_model.fit(X_train, y_train,\n",
        "          batch_size=64,\n",
        "          epochs = 30,\n",
        "          validation_data=(X_valid, y_valid),\n",
        "          verbose = 1)"
      ],
      "metadata": {
        "id": "mNosmduOFiE9"
      },
      "id": "mNosmduOFiE9",
      "execution_count": null,
      "outputs": []
    },
    {
      "cell_type": "code",
      "source": [
        "y_pred = resnet_model.predict(X_test)"
      ],
      "metadata": {
        "id": "vuBWnShzFiJ4"
      },
      "id": "vuBWnShzFiJ4",
      "execution_count": null,
      "outputs": []
    },
    {
      "cell_type": "code",
      "source": [
        "y_pred_n = list(map(lambda x: np.argmax(x), y_pred))\n",
        "y_test_n = list(map(lambda x: np.argmax(x), y_test))"
      ],
      "metadata": {
        "id": "h8g5YjQgFiL6"
      },
      "id": "h8g5YjQgFiL6",
      "execution_count": null,
      "outputs": []
    },
    {
      "cell_type": "code",
      "source": [
        "resnet_acc = acc(y_pred_n, y_test_n)"
      ],
      "metadata": {
        "id": "NbFPvR5VFw_e"
      },
      "id": "NbFPvR5VFw_e",
      "execution_count": null,
      "outputs": []
    },
    {
      "cell_type": "code",
      "source": [
        "resnet_model.save(\"my_cnn.h5\")"
      ],
      "metadata": {
        "id": "FZdjFp1JLZ_g"
      },
      "id": "FZdjFp1JLZ_g",
      "execution_count": null,
      "outputs": []
    },
    {
      "cell_type": "markdown",
      "source": [
        "<h1>VGG16</h1>"
      ],
      "metadata": {
        "id": "Xaz8aiGNJNId"
      },
      "id": "Xaz8aiGNJNId"
    },
    {
      "cell_type": "code",
      "source": [
        "vgg_model = keras.models.Sequential([\n",
        "                               VGG16(include_top=False, input_shape=(32, 32, 3), pooling='avg'),\n",
        "                               keras.layers.Dense(20, activation=\"softmax\")\n",
        "                                ])"
      ],
      "metadata": {
        "id": "z6Z7rmkgE3Zb"
      },
      "id": "z6Z7rmkgE3Zb",
      "execution_count": null,
      "outputs": []
    },
    {
      "cell_type": "code",
      "source": [
        "vgg_model.compile(loss=\"categorical_crossentropy\",\n",
        "              optimizer='adam',\n",
        "              metrics=[\"accuracy\"])"
      ],
      "metadata": {
        "id": "lNKBSAUIE3qG"
      },
      "id": "lNKBSAUIE3qG",
      "execution_count": null,
      "outputs": []
    },
    {
      "cell_type": "code",
      "source": [
        "vgg_model.summary()"
      ],
      "metadata": {
        "id": "dMjWkG0fE3zx"
      },
      "id": "dMjWkG0fE3zx",
      "execution_count": null,
      "outputs": []
    },
    {
      "cell_type": "code",
      "source": [
        "tf.keras.utils.plot_model(vgg_model,\"vgg_model.png\",show_shapes=True)"
      ],
      "metadata": {
        "id": "e6FuN07ZE37w"
      },
      "id": "e6FuN07ZE37w",
      "execution_count": null,
      "outputs": []
    },
    {
      "cell_type": "code",
      "execution_count": null,
      "metadata": {
        "id": "f8c75487",
        "scrolled": true
      },
      "outputs": [],
      "source": [
        "vgg_model.fit(X_train, y_train,\n",
        "          batch_size=64,\n",
        "          epochs = 30,\n",
        "          validation_data=(X_valid, y_valid),\n",
        "          verbose = 1)"
      ],
      "id": "f8c75487"
    },
    {
      "cell_type": "code",
      "execution_count": null,
      "metadata": {
        "id": "b4aae39b"
      },
      "outputs": [],
      "source": [
        "y_pred = vgg_model.predict(X_test)"
      ],
      "id": "b4aae39b"
    },
    {
      "cell_type": "code",
      "execution_count": null,
      "metadata": {
        "id": "1f0cc8cd"
      },
      "outputs": [],
      "source": [
        "y_pred_n = list(map(lambda x: np.argmax(x), y_pred))\n",
        "y_test_n = list(map(lambda x: np.argmax(x), y_test))"
      ],
      "id": "1f0cc8cd"
    },
    {
      "cell_type": "code",
      "execution_count": null,
      "metadata": {
        "id": "4f8d0336"
      },
      "outputs": [],
      "source": [
        "vgg_acc = acc(y_pred_n, y_test_n)"
      ],
      "id": "4f8d0336"
    },
    {
      "cell_type": "code",
      "source": [
        "vgg_model.save(\"vgg16.h5\")"
      ],
      "metadata": {
        "id": "KkxRZFO0LbMM"
      },
      "id": "KkxRZFO0LbMM",
      "execution_count": null,
      "outputs": []
    },
    {
      "cell_type": "markdown",
      "source": [
        "<h1>Plotting accuracy</h1>"
      ],
      "metadata": {
        "id": "MfjsNc2xNCaa"
      },
      "id": "MfjsNc2xNCaa"
    },
    {
      "cell_type": "code",
      "execution_count": null,
      "metadata": {
        "id": "WzSYPCKC_R7U"
      },
      "outputs": [],
      "source": [
        "acc = [svc_acc,  my_cnn_acc, resnet_acc, vgg_acc]\n",
        "models = ['SVC', 'MY CNN', 'ResNet50', 'VGG16']\n",
        "\n",
        "plt.bar(models, acc)\n",
        "plt.ylim((0, 0.6))"
      ],
      "id": "WzSYPCKC_R7U"
    }
  ],
  "metadata": {
    "accelerator": "GPU",
    "colab": {
      "collapsed_sections": [],
      "name": "Untitled (4).ipynb",
      "provenance": []
    },
    "kernelspec": {
      "display_name": "Python 3 (ipykernel)",
      "language": "python",
      "name": "python3"
    },
    "language_info": {
      "codemirror_mode": {
        "name": "ipython",
        "version": 3
      },
      "file_extension": ".py",
      "mimetype": "text/x-python",
      "name": "python",
      "nbconvert_exporter": "python",
      "pygments_lexer": "ipython3",
      "version": "3.9.7"
    }
  },
  "nbformat": 4,
  "nbformat_minor": 5
}

{
  "cells": [
    {
      "cell_type": "code",
      "execution_count": null,
      "metadata": {
        "id": "9b2cb7cb"
      },
      "outputs": [],
      "source": [
        "!pip install numpy\n",
        "!pip install pandas\n",
        "!pip install matplotlib\n",
        "!pip install seaborn\n",
        "!pip install opencv-python\n",
        "!pip install zipfile\n",
        "!pip install pickle\n",
        "!pip install tensorflow\n",
        "!pip install tensorflow-gpu"
      ],
      "id": "9b2cb7cb"
    },
    {
      "cell_type": "code",
      "execution_count": 7,
      "metadata": {
        "id": "ca2a9117"
      },
      "outputs": [],
      "source": [
        "import numpy as np\n",
        "import pandas as pd\n",
        "import matplotlib.pyplot as plt\n",
        "import seaborn as sns\n",
        "import cv2\n",
        "import zipfile\n",
        "import pickle\n",
        "import tensorflow as tf\n",
        "from sklearn.svm import SVC\n",
        "from sklearn.decomposition import PCA\n",
        "import keras\n",
        "from tensorflow.keras.applications import ResNet50, VGG16\n",
        "from tensorflow.keras.utils import to_categorical\n",
        "import joblib\n",
        "import wget"
      ],
      "id": "ca2a9117"
    },
    {
      "cell_type": "code",
      "execution_count": null,
      "metadata": {
        "colab": {
          "base_uri": "https://localhost:8080/"
        },
        "id": "311b5462",
        "outputId": "4797179c-1786-41b7-f5a6-9b843f750156"
      },
      "outputs": [
        {
          "output_type": "execute_result",
          "data": {
            "text/plain": [
              "[PhysicalDevice(name='/physical_device:CPU:0', device_type='CPU'),\n",
              " PhysicalDevice(name='/physical_device:GPU:0', device_type='GPU')]"
            ]
          },
          "metadata": {},
          "execution_count": 2
        }
      ],
      "source": [
        "tf.config.list_physical_devices()"
      ],
      "id": "311b5462"
    },
    {
      "cell_type": "markdown",
      "source": [
        "Download the data from [CIFAR-100](https://www.kaggle.com/datasets/fedesoriano/cifar100?resource=download)"
      ],
      "metadata": {
        "id": "8jNyMIVwModT"
      },
      "id": "8jNyMIVwModT"
    },
    {
      "cell_type": "code",
      "execution_count": null,
      "metadata": {
        "id": "b33ff70b"
      },
      "outputs": [],
      "source": [
        "# uncomment and excute this snippet only once\n",
        "\n",
        "with zipfile.ZipFile('archive.zip', 'r') as file:\n",
        "    file.extractall()"
      ],
      "id": "b33ff70b"
    },
    {
      "cell_type": "code",
      "execution_count": null,
      "metadata": {
        "id": "4f8f192b"
      },
      "outputs": [],
      "source": [
        "def unpickle(file):\n",
        "    with open(file, 'rb') as fo:\n",
        "        dict = pickle.load(fo, encoding='bytes')\n",
        "    return dict"
      ],
      "id": "4f8f192b"
    },
    {
      "cell_type": "code",
      "execution_count": null,
      "metadata": {
        "id": "e19eb15d"
      },
      "outputs": [],
      "source": [
        "train_data = unpickle('train')\n",
        "test_data = unpickle('test')\n",
        "meta_data = unpickle('meta')"
      ],
      "id": "e19eb15d"
    },
    {
      "cell_type": "markdown",
      "metadata": {
        "id": "991c1f70"
      },
      "source": [
        "<h2>Constructing data frames from dict data</h2>"
      ],
      "id": "991c1f70"
    },
    {
      "cell_type": "code",
      "execution_count": null,
      "metadata": {
        "id": "384747d8"
      },
      "outputs": [],
      "source": [
        "superclass_train = train_data[b'coarse_labels']\n",
        "super_labels = list(map(lambda x: x.decode(), meta_data[b'coarse_label_names']))\n",
        "image_data = train_data[b'data']"
      ],
      "id": "384747d8"
    },
    {
      "cell_type": "code",
      "execution_count": null,
      "metadata": {
        "id": "5e6afea9"
      },
      "outputs": [],
      "source": [
        "train = pd.DataFrame(image_data) / 255.0\n",
        "train['Super Class'] = superclass_train\n",
        "\n",
        "X_train, y_train = train.drop([\"Super Class\"], axis=1), train[\"Super Class\"]\n",
        "\n",
        "X_valid, y_valid = X_train[45000:] , y_train[45000:]\n",
        "X_train, y_train = X_train[:40000] , y_train[:40000]"
      ],
      "id": "5e6afea9"
    },
    {
      "cell_type": "code",
      "execution_count": null,
      "metadata": {
        "id": "5da959df"
      },
      "outputs": [],
      "source": [
        "subclass_test = test_data[b'fine_labels']\n",
        "superclass_test = test_data[b'coarse_labels'] \n",
        "image_data = test_data[b'data']"
      ],
      "id": "5da959df"
    },
    {
      "cell_type": "code",
      "execution_count": null,
      "metadata": {
        "id": "9760cfca"
      },
      "outputs": [],
      "source": [
        "test = pd.DataFrame(image_data) / 255.0\n",
        "test['Super Class'] = superclass_test\n",
        "\n",
        "X_test, y_test = test.drop([\"Super Class\"], axis=1), test[\"Super Class\"]"
      ],
      "id": "9760cfca"
    },
    {
      "cell_type": "code",
      "execution_count": null,
      "metadata": {
        "colab": {
          "base_uri": "https://localhost:8080/",
          "height": 317
        },
        "id": "945203bd",
        "outputId": "740c8f9e-76f0-4614-cc11-0da02e5b1cec"
      },
      "outputs": [
        {
          "output_type": "execute_result",
          "data": {
            "text/plain": [
              "          0         1         2         3         4         5         6  \\\n",
              "0  1.000000  1.000000  1.000000  1.000000  1.000000  1.000000  1.000000   \n",
              "1  1.000000  0.992157  0.992157  0.992157  0.992157  0.992157  0.992157   \n",
              "2  0.980392  0.972549  0.968627  0.972549  0.976471  0.976471  0.972549   \n",
              "3  0.486275  0.513725  0.529412  0.541176  0.549020  0.564706  0.580392   \n",
              "4  0.168627  0.125490  0.341176  0.498039  0.215686  0.188235  0.200000   \n",
              "\n",
              "          7         8         9  ...      3063      3064      3065      3066  \\\n",
              "0  1.000000  1.000000  1.000000  ...  0.290196  0.298039  0.184314  0.184314   \n",
              "1  0.992157  0.992157  0.992157  ...  0.992157  0.992157  0.992157  0.992157   \n",
              "2  0.972549  0.968627  0.968627  ...  0.768627  0.756863  0.749020  0.745098   \n",
              "3  0.596078  0.611765  0.619608  ...  0.807843  0.843137  0.847059  0.850980   \n",
              "4  0.341176  0.474510  0.443137  ...  0.247059  0.274510  0.211765  0.298039   \n",
              "\n",
              "       3067      3068      3069      3070      3071  Super Class  \n",
              "0  0.094118  0.015686  0.039216  0.231373  0.309804           11  \n",
              "1  0.992157  0.992157  0.992157  0.992157  1.000000           15  \n",
              "2  0.741176  0.745098  0.760784  0.811765  0.894118            4  \n",
              "3  0.866667  0.874510  0.909804  0.925490  0.905882           14  \n",
              "4  0.196078  0.305882  0.235294  0.113725  0.145098            1  \n",
              "\n",
              "[5 rows x 3073 columns]"
            ],
            "text/html": [
              "\n",
              "  <div id=\"df-40836bcb-9c35-40df-9218-86db1a87350c\">\n",
              "    <div class=\"colab-df-container\">\n",
              "      <div>\n",
              "<style scoped>\n",
              "    .dataframe tbody tr th:only-of-type {\n",
              "        vertical-align: middle;\n",
              "    }\n",
              "\n",
              "    .dataframe tbody tr th {\n",
              "        vertical-align: top;\n",
              "    }\n",
              "\n",
              "    .dataframe thead th {\n",
              "        text-align: right;\n",
              "    }\n",
              "</style>\n",
              "<table border=\"1\" class=\"dataframe\">\n",
              "  <thead>\n",
              "    <tr style=\"text-align: right;\">\n",
              "      <th></th>\n",
              "      <th>0</th>\n",
              "      <th>1</th>\n",
              "      <th>2</th>\n",
              "      <th>3</th>\n",
              "      <th>4</th>\n",
              "      <th>5</th>\n",
              "      <th>6</th>\n",
              "      <th>7</th>\n",
              "      <th>8</th>\n",
              "      <th>9</th>\n",
              "      <th>...</th>\n",
              "      <th>3063</th>\n",
              "      <th>3064</th>\n",
              "      <th>3065</th>\n",
              "      <th>3066</th>\n",
              "      <th>3067</th>\n",
              "      <th>3068</th>\n",
              "      <th>3069</th>\n",
              "      <th>3070</th>\n",
              "      <th>3071</th>\n",
              "      <th>Super Class</th>\n",
              "    </tr>\n",
              "  </thead>\n",
              "  <tbody>\n",
              "    <tr>\n",
              "      <th>0</th>\n",
              "      <td>1.000000</td>\n",
              "      <td>1.000000</td>\n",
              "      <td>1.000000</td>\n",
              "      <td>1.000000</td>\n",
              "      <td>1.000000</td>\n",
              "      <td>1.000000</td>\n",
              "      <td>1.000000</td>\n",
              "      <td>1.000000</td>\n",
              "      <td>1.000000</td>\n",
              "      <td>1.000000</td>\n",
              "      <td>...</td>\n",
              "      <td>0.290196</td>\n",
              "      <td>0.298039</td>\n",
              "      <td>0.184314</td>\n",
              "      <td>0.184314</td>\n",
              "      <td>0.094118</td>\n",
              "      <td>0.015686</td>\n",
              "      <td>0.039216</td>\n",
              "      <td>0.231373</td>\n",
              "      <td>0.309804</td>\n",
              "      <td>11</td>\n",
              "    </tr>\n",
              "    <tr>\n",
              "      <th>1</th>\n",
              "      <td>1.000000</td>\n",
              "      <td>0.992157</td>\n",
              "      <td>0.992157</td>\n",
              "      <td>0.992157</td>\n",
              "      <td>0.992157</td>\n",
              "      <td>0.992157</td>\n",
              "      <td>0.992157</td>\n",
              "      <td>0.992157</td>\n",
              "      <td>0.992157</td>\n",
              "      <td>0.992157</td>\n",
              "      <td>...</td>\n",
              "      <td>0.992157</td>\n",
              "      <td>0.992157</td>\n",
              "      <td>0.992157</td>\n",
              "      <td>0.992157</td>\n",
              "      <td>0.992157</td>\n",
              "      <td>0.992157</td>\n",
              "      <td>0.992157</td>\n",
              "      <td>0.992157</td>\n",
              "      <td>1.000000</td>\n",
              "      <td>15</td>\n",
              "    </tr>\n",
              "    <tr>\n",
              "      <th>2</th>\n",
              "      <td>0.980392</td>\n",
              "      <td>0.972549</td>\n",
              "      <td>0.968627</td>\n",
              "      <td>0.972549</td>\n",
              "      <td>0.976471</td>\n",
              "      <td>0.976471</td>\n",
              "      <td>0.972549</td>\n",
              "      <td>0.972549</td>\n",
              "      <td>0.968627</td>\n",
              "      <td>0.968627</td>\n",
              "      <td>...</td>\n",
              "      <td>0.768627</td>\n",
              "      <td>0.756863</td>\n",
              "      <td>0.749020</td>\n",
              "      <td>0.745098</td>\n",
              "      <td>0.741176</td>\n",
              "      <td>0.745098</td>\n",
              "      <td>0.760784</td>\n",
              "      <td>0.811765</td>\n",
              "      <td>0.894118</td>\n",
              "      <td>4</td>\n",
              "    </tr>\n",
              "    <tr>\n",
              "      <th>3</th>\n",
              "      <td>0.486275</td>\n",
              "      <td>0.513725</td>\n",
              "      <td>0.529412</td>\n",
              "      <td>0.541176</td>\n",
              "      <td>0.549020</td>\n",
              "      <td>0.564706</td>\n",
              "      <td>0.580392</td>\n",
              "      <td>0.596078</td>\n",
              "      <td>0.611765</td>\n",
              "      <td>0.619608</td>\n",
              "      <td>...</td>\n",
              "      <td>0.807843</td>\n",
              "      <td>0.843137</td>\n",
              "      <td>0.847059</td>\n",
              "      <td>0.850980</td>\n",
              "      <td>0.866667</td>\n",
              "      <td>0.874510</td>\n",
              "      <td>0.909804</td>\n",
              "      <td>0.925490</td>\n",
              "      <td>0.905882</td>\n",
              "      <td>14</td>\n",
              "    </tr>\n",
              "    <tr>\n",
              "      <th>4</th>\n",
              "      <td>0.168627</td>\n",
              "      <td>0.125490</td>\n",
              "      <td>0.341176</td>\n",
              "      <td>0.498039</td>\n",
              "      <td>0.215686</td>\n",
              "      <td>0.188235</td>\n",
              "      <td>0.200000</td>\n",
              "      <td>0.341176</td>\n",
              "      <td>0.474510</td>\n",
              "      <td>0.443137</td>\n",
              "      <td>...</td>\n",
              "      <td>0.247059</td>\n",
              "      <td>0.274510</td>\n",
              "      <td>0.211765</td>\n",
              "      <td>0.298039</td>\n",
              "      <td>0.196078</td>\n",
              "      <td>0.305882</td>\n",
              "      <td>0.235294</td>\n",
              "      <td>0.113725</td>\n",
              "      <td>0.145098</td>\n",
              "      <td>1</td>\n",
              "    </tr>\n",
              "  </tbody>\n",
              "</table>\n",
              "<p>5 rows × 3073 columns</p>\n",
              "</div>\n",
              "      <button class=\"colab-df-convert\" onclick=\"convertToInteractive('df-40836bcb-9c35-40df-9218-86db1a87350c')\"\n",
              "              title=\"Convert this dataframe to an interactive table.\"\n",
              "              style=\"display:none;\">\n",
              "        \n",
              "  <svg xmlns=\"http://www.w3.org/2000/svg\" height=\"24px\"viewBox=\"0 0 24 24\"\n",
              "       width=\"24px\">\n",
              "    <path d=\"M0 0h24v24H0V0z\" fill=\"none\"/>\n",
              "    <path d=\"M18.56 5.44l.94 2.06.94-2.06 2.06-.94-2.06-.94-.94-2.06-.94 2.06-2.06.94zm-11 1L8.5 8.5l.94-2.06 2.06-.94-2.06-.94L8.5 2.5l-.94 2.06-2.06.94zm10 10l.94 2.06.94-2.06 2.06-.94-2.06-.94-.94-2.06-.94 2.06-2.06.94z\"/><path d=\"M17.41 7.96l-1.37-1.37c-.4-.4-.92-.59-1.43-.59-.52 0-1.04.2-1.43.59L10.3 9.45l-7.72 7.72c-.78.78-.78 2.05 0 2.83L4 21.41c.39.39.9.59 1.41.59.51 0 1.02-.2 1.41-.59l7.78-7.78 2.81-2.81c.8-.78.8-2.07 0-2.86zM5.41 20L4 18.59l7.72-7.72 1.47 1.35L5.41 20z\"/>\n",
              "  </svg>\n",
              "      </button>\n",
              "      \n",
              "  <style>\n",
              "    .colab-df-container {\n",
              "      display:flex;\n",
              "      flex-wrap:wrap;\n",
              "      gap: 12px;\n",
              "    }\n",
              "\n",
              "    .colab-df-convert {\n",
              "      background-color: #E8F0FE;\n",
              "      border: none;\n",
              "      border-radius: 50%;\n",
              "      cursor: pointer;\n",
              "      display: none;\n",
              "      fill: #1967D2;\n",
              "      height: 32px;\n",
              "      padding: 0 0 0 0;\n",
              "      width: 32px;\n",
              "    }\n",
              "\n",
              "    .colab-df-convert:hover {\n",
              "      background-color: #E2EBFA;\n",
              "      box-shadow: 0px 1px 2px rgba(60, 64, 67, 0.3), 0px 1px 3px 1px rgba(60, 64, 67, 0.15);\n",
              "      fill: #174EA6;\n",
              "    }\n",
              "\n",
              "    [theme=dark] .colab-df-convert {\n",
              "      background-color: #3B4455;\n",
              "      fill: #D2E3FC;\n",
              "    }\n",
              "\n",
              "    [theme=dark] .colab-df-convert:hover {\n",
              "      background-color: #434B5C;\n",
              "      box-shadow: 0px 1px 3px 1px rgba(0, 0, 0, 0.15);\n",
              "      filter: drop-shadow(0px 1px 2px rgba(0, 0, 0, 0.3));\n",
              "      fill: #FFFFFF;\n",
              "    }\n",
              "  </style>\n",
              "\n",
              "      <script>\n",
              "        const buttonEl =\n",
              "          document.querySelector('#df-40836bcb-9c35-40df-9218-86db1a87350c button.colab-df-convert');\n",
              "        buttonEl.style.display =\n",
              "          google.colab.kernel.accessAllowed ? 'block' : 'none';\n",
              "\n",
              "        async function convertToInteractive(key) {\n",
              "          const element = document.querySelector('#df-40836bcb-9c35-40df-9218-86db1a87350c');\n",
              "          const dataTable =\n",
              "            await google.colab.kernel.invokeFunction('convertToInteractive',\n",
              "                                                     [key], {});\n",
              "          if (!dataTable) return;\n",
              "\n",
              "          const docLinkHtml = 'Like what you see? Visit the ' +\n",
              "            '<a target=\"_blank\" href=https://colab.research.google.com/notebooks/data_table.ipynb>data table notebook</a>'\n",
              "            + ' to learn more about interactive tables.';\n",
              "          element.innerHTML = '';\n",
              "          dataTable['output_type'] = 'display_data';\n",
              "          await google.colab.output.renderOutput(dataTable, element);\n",
              "          const docLink = document.createElement('div');\n",
              "          docLink.innerHTML = docLinkHtml;\n",
              "          element.appendChild(docLink);\n",
              "        }\n",
              "      </script>\n",
              "    </div>\n",
              "  </div>\n",
              "  "
            ]
          },
          "metadata": {},
          "execution_count": 28
        }
      ],
      "source": [
        "train.head()"
      ],
      "id": "945203bd"
    },
    {
      "cell_type": "markdown",
      "metadata": {
        "id": "ed195963"
      },
      "source": [
        "<h2>Showing sample images</h2>"
      ],
      "id": "ed195963"
    },
    {
      "cell_type": "code",
      "execution_count": null,
      "metadata": {
        "id": "b8305a39"
      },
      "outputs": [],
      "source": [
        "def plot_samples(data, start, end):\n",
        "    for i in range(start, end):\n",
        "        im = np.array(data.iloc[i, :-1])\n",
        "    \n",
        "        im_r = im[0:1024].reshape(32, 32)\n",
        "        im_g = im[1024:2048].reshape(32, 32)\n",
        "        im_b = im[2048:].reshape(32, 32)\n",
        "\n",
        "        img = np.dstack((im_r, im_g, im_b))\n",
        "        \n",
        "        plt.imshow(img)\n",
        "        plt.show()"
      ],
      "id": "b8305a39"
    },
    {
      "cell_type": "code",
      "execution_count": null,
      "metadata": {
        "colab": {
          "base_uri": "https://localhost:8080/",
          "height": 764
        },
        "id": "7cc08a40",
        "outputId": "4bcf6b39-c35c-4090-fc79-95255284aef6",
        "scrolled": true
      },
      "outputs": [
        {
          "output_type": "display_data",
          "data": {
            "text/plain": [
              "<Figure size 432x288 with 1 Axes>"
            ],
            "image/png": "[encoded data removed]"
          },
          "metadata": {
            "needs_background": "light"
          }
        },
        {
          "output_type": "display_data",
          "data": {
            "text/plain": [
              "<Figure size 432x288 with 1 Axes>"
            ],
            "image/png": "[encoded data removed]"
          },
          "metadata": {
            "needs_background": "light"
          }
        },
        {
          "output_type": "display_data",
          "data": {
            "text/plain": [
              "<Figure size 432x288 with 1 Axes>"
            ],
            "image/png": "[encoded data removed]"
          },
          "metadata": {
            "needs_background": "light"
          }
        }
      ],
      "source": [
        "plot_samples(train, 10, 13)"
      ],
      "id": "7cc08a40"
    },
    {
      "cell_type": "code",
      "source": [
        "def acc(y_pred, y_test):\n",
        "  count = 0\n",
        "\n",
        "  for i in range(len(y_pred)):\n",
        "    if(y_pred[i] == y_test[i]):\n",
        "     count += 1\n",
        "\n",
        "  return count / len(y_pred)"
      ],
      "metadata": {
        "id": "gF3_KY6zKIDX"
      },
      "id": "gF3_KY6zKIDX",
      "execution_count": null,
      "outputs": []
    },
    {
      "cell_type": "markdown",
      "source": [
        "<h1>SVM</h1>"
      ],
      "metadata": {
        "id": "v9VF-jF7I9B9"
      },
      "id": "v9VF-jF7I9B9"
    },
    {
      "cell_type": "code",
      "execution_count": null,
      "metadata": {
        "id": "aae2f15a"
      },
      "outputs": [],
      "source": [
        "pca = PCA(n_components=0.97)"
      ],
      "id": "aae2f15a"
    },
    {
      "cell_type": "code",
      "execution_count": null,
      "metadata": {
        "id": "afa9789d"
      },
      "outputs": [],
      "source": [
        "X_train_reduced = pca.fit_transform(X_train)\n",
        "X_test_reduced = pca.transform(X_test)"
      ],
      "id": "afa9789d"
    },
    {
      "cell_type": "code",
      "execution_count": null,
      "metadata": {
        "id": "f2104e67"
      },
      "outputs": [],
      "source": [
        "svm = SVC()"
      ],
      "id": "f2104e67"
    },
    {
      "cell_type": "code",
      "execution_count": null,
      "metadata": {
        "colab": {
          "base_uri": "https://localhost:8080/"
        },
        "id": "73db8397",
        "outputId": "1c387653-9746-4fda-d67a-1dc6aabb846f"
      },
      "outputs": [
        {
          "output_type": "execute_result",
          "data": {
            "text/plain": [
              "SVC()"
            ]
          },
          "metadata": {},
          "execution_count": 14
        }
      ],
      "source": [
        "svm.fit(X_train_reduced, y_train)"
      ],
      "id": "73db8397"
    },
    {
      "cell_type": "code",
      "execution_count": null,
      "metadata": {
        "id": "5b573dd7"
      },
      "outputs": [],
      "source": [
        "y_pred = svm.predict(X_test_reduced)"
      ],
      "id": "5b573dd7"
    },
    {
      "cell_type": "code",
      "execution_count": null,
      "metadata": {
        "colab": {
          "base_uri": "https://localhost:8080/"
        },
        "id": "no1WsEJnR33U",
        "outputId": "706901a7-7ebc-4dfb-a979-81c9b22aff7d"
      },
      "outputs": [
        {
          "output_type": "execute_result",
          "data": {
            "text/plain": [
              "0.37"
            ]
          },
          "metadata": {},
          "execution_count": 16
        }
      ],
      "source": [
        "(y_pred == y_test).sum() / y_test.shape[0]"
      ],
      "id": "no1WsEJnR33U"
    },
    {
      "cell_type": "code",
      "source": [
        "svc_acc = acc(y_pred, y_test)"
      ],
      "metadata": {
        "id": "Z_HkQ3u0LMts"
      },
      "id": "Z_HkQ3u0LMts",
      "execution_count": null,
      "outputs": []
    },
    {
      "cell_type": "code",
      "execution_count": null,
      "metadata": {
        "id": "A0N8B2ZT4NjT"
      },
      "outputs": [],
      "source": [
        "joblib.dump(svm, \"SVC_0.97\")"
      ],
      "id": "A0N8B2ZT4NjT"
    },
    {
      "cell_type": "markdown",
      "source": [
        "<h1>MY CNN</h1>"
      ],
      "metadata": {
        "id": "j_75n_bmJER7"
      },
      "id": "j_75n_bmJER7"
    },
    {
      "cell_type": "code",
      "source": [
        "X_train = np.array(X_train).reshape(len(X_train),3,32,32).transpose(0, 2, 3, 1)\n",
        "X_valid = np.array(X_valid).reshape(len(X_valid),3,32,32).transpose(0, 2, 3, 1)\n",
        "X_test = np.array(X_test).reshape(len(X_test),3,32,32).transpose(0, 2, 3, 1)\n",
        "\n",
        "\n",
        "y_train = to_categorical(y_train)\n",
        "y_valid = to_categorical(y_valid)\n",
        "y_test = to_categorical(y_test)"
      ],
      "metadata": {
        "id": "xOoIkGr0E3OP"
      },
      "id": "xOoIkGr0E3OP",
      "execution_count": null,
      "outputs": []
    },
    {
      "cell_type": "code",
      "source": [
        "my_cnn_model = keras.models.Sequential([\n",
        "                               keras.layers.Conv2D(64, 7, activation=\"relu\", padding=\"same\",input_shape=[28, 28, 1]),\n",
        "                               keras.layers.MaxPooling2D(2),\\\n",
        "                               keras.layers.Conv2D(64, 3, activation=\"relu\", padding=\"same\"),\n",
        "                               keras.layers.Conv2D(64, 3, activation=\"relu\", padding=\"same\"),\n",
        "                               keras.layers.MaxPooling2D(2),\n",
        "                               keras.layers.Conv2D(128, 3, activation=\"relu\", padding=\"same\"),\n",
        "                               keras.layers.Conv2D(128, 3, activation=\"relu\", padding=\"same\"),\n",
        "                               keras.layers.MaxPooling2D(2),\n",
        "                               keras.layers.Conv2D(256, 3, activation=\"relu\", padding=\"same\"),\n",
        "                               keras.layers.Conv2D(256, 3, activation=\"relu\", padding=\"same\"),\n",
        "                               keras.layers.MaxPooling2D(2),\n",
        "                               keras.layers.Flatten(),\n",
        "                               keras.layers.Dense(225, activation=\"relu\"),\n",
        "                               keras.layers.Dropout(0.5),\n",
        "                               keras.layers.Dense(144, activation=\"relu\"),\n",
        "                               keras.layers.Dropout(0.5),\n",
        "                               keras.layers.Dense(20, activation=\"softmax\")\n",
        "                                ])"
      ],
      "metadata": {
        "id": "PLF-NZOUF9OK"
      },
      "id": "PLF-NZOUF9OK",
      "execution_count": null,
      "outputs": []
    },
    {
      "cell_type": "code",
      "source": [
        "my_cnn_model.compile(loss=\"binary_crossentropy\",\n",
        "              optimizer='adam',\n",
        "              metrics=[\"accuracy\"])"
      ],
      "metadata": {
        "id": "PpIdlcqSF9Q6"
      },
      "id": "PpIdlcqSF9Q6",
      "execution_count": null,
      "outputs": []
    },
    {
      "cell_type": "code",
      "source": [
        "my_cnn_model.summary()"
      ],
      "metadata": {
        "id": "nd_qGJU8F9TU"
      },
      "id": "nd_qGJU8F9TU",
      "execution_count": null,
      "outputs": []
    },
    {
      "cell_type": "code",
      "source": [
        "tf.keras.utils.plot_model(my_cnn_model,\"resnet_model.png\",show_shapes=True)"
      ],
      "metadata": {
        "id": "lOqk0MU7F9Vm"
      },
      "id": "lOqk0MU7F9Vm",
      "execution_count": null,
      "outputs": []
    },
    {
      "cell_type": "code",
      "source": [
        "my_cnn_model.fit(X_train, y_train,\n",
        "          batch_size=64,\n",
        "          epochs = 30,\n",
        "          validation_data=(X_valid, y_valid),\n",
        "          verbose = 1)"
      ],
      "metadata": {
        "id": "eVCbAQbIF9Xx"
      },
      "id": "eVCbAQbIF9Xx",
      "execution_count": null,
      "outputs": []
    },
    {
      "cell_type": "code",
      "source": [
        "y_pred = my_cnn_model.predict(X_test)"
      ],
      "metadata": {
        "id": "dMaXeAWzF9aM"
      },
      "id": "dMaXeAWzF9aM",
      "execution_count": null,
      "outputs": []
    },
    {
      "cell_type": "code",
      "source": [
        "y_pred_n = list(map(lambda x: np.argmax(x), y_pred))\n",
        "y_test_n = list(map(lambda x: np.argmax(x), y_test))"
      ],
      "metadata": {
        "id": "QEJ5vJV-F9dE"
      },
      "id": "QEJ5vJV-F9dE",
      "execution_count": null,
      "outputs": []
    },
    {
      "cell_type": "code",
      "source": [
        "my_cnn_acc = acc(y_pred_n, y_test_n)"
      ],
      "metadata": {
        "id": "d9CvWSqFF9fk"
      },
      "id": "d9CvWSqFF9fk",
      "execution_count": null,
      "outputs": []
    },
    {
      "cell_type": "code",
      "source": [
        "my_cnn_model.save(\"my_cnn.h5\")"
      ],
      "metadata": {
        "id": "HzTUikx2LWVH"
      },
      "id": "HzTUikx2LWVH",
      "execution_count": null,
      "outputs": []
    },
    {
      "cell_type": "markdown",
      "source": [
        "<h1>ResNet50</h1>"
      ],
      "metadata": {
        "id": "uAVyOzCJJJSq"
      },
      "id": "uAVyOzCJJJSq"
    },
    {
      "cell_type": "code",
      "source": [
        "resnet_model = keras.models.Sequential([\n",
        "                               ResNet50(include_top=False, input_shape=(32, 32, 3), pooling='avg'),\n",
        "                               keras.layers.Dense(20, activation=\"softmax\")\n",
        "                                ])"
      ],
      "metadata": {
        "id": "VjpAxMT5Fh5M"
      },
      "id": "VjpAxMT5Fh5M",
      "execution_count": null,
      "outputs": []
    },
    {
      "cell_type": "code",
      "source": [
        "resnet_model.compile(loss=\"categorical_crossentropy\",\n",
        "              optimizer='adam',\n",
        "              metrics=[\"accuracy\"])"
      ],
      "metadata": {
        "id": "PkI4D1ePFh7y"
      },
      "id": "PkI4D1ePFh7y",
      "execution_count": null,
      "outputs": []
    },
    {
      "cell_type": "code",
      "source": [
        "resnet_model.summary()"
      ],
      "metadata": {
        "id": "Yud57qOLFh_1"
      },
      "id": "Yud57qOLFh_1",
      "execution_count": null,
      "outputs": []
    },
    {
      "cell_type": "code",
      "source": [
        "tf.keras.utils.plot_model(resnet_model,\"resnet_model.png\",show_shapes=True)"
      ],
      "metadata": {
        "id": "EEHlPKs_FiCl"
      },
      "id": "EEHlPKs_FiCl",
      "execution_count": null,
      "outputs": []
    },
    {
      "cell_type": "code",
      "source": [
        "resnet_model.fit(X_train, y_train,\n",
        "          batch_size=64,\n",
        "          epochs = 30,\n",
        "          validation_data=(X_valid, y_valid),\n",
        "          verbose = 1)"
      ],
      "metadata": {
        "id": "mNosmduOFiE9"
      },
      "id": "mNosmduOFiE9",
      "execution_count": null,
      "outputs": []
    },
    {
      "cell_type": "code",
      "source": [
        "y_pred = resnet_model.predict(X_test)"
      ],
      "metadata": {
        "id": "vuBWnShzFiJ4"
      },
      "id": "vuBWnShzFiJ4",
      "execution_count": null,
      "outputs": []
    },
    {
      "cell_type": "code",
      "source": [
        "y_pred_n = list(map(lambda x: np.argmax(x), y_pred))\n",
        "y_test_n = list(map(lambda x: np.argmax(x), y_test))"
      ],
      "metadata": {
        "id": "h8g5YjQgFiL6"
      },
      "id": "h8g5YjQgFiL6",
      "execution_count": null,
      "outputs": []
    },
    {
      "cell_type": "code",
      "source": [
        "resnet_acc = acc(y_pred_n, y_test_n)"
      ],
      "metadata": {
        "id": "NbFPvR5VFw_e"
      },
      "id": "NbFPvR5VFw_e",
      "execution_count": null,
      "outputs": []
    },
    {
      "cell_type": "code",
      "source": [
        "resnet_model.save(\"my_cnn.h5\")"
      ],
      "metadata": {
        "id": "FZdjFp1JLZ_g"
      },
      "id": "FZdjFp1JLZ_g",
      "execution_count": null,
      "outputs": []
    },
    {
      "cell_type": "markdown",
      "source": [
        "<h1>VGG16</h1>"
      ],
      "metadata": {
        "id": "Xaz8aiGNJNId"
      },
      "id": "Xaz8aiGNJNId"
    },
    {
      "cell_type": "code",
      "source": [
        "vgg_model = keras.models.Sequential([\n",
        "                               VGG16(include_top=False, input_shape=(32, 32, 3), pooling='avg'),\n",
        "                               keras.layers.Dense(20, activation=\"softmax\")\n",
        "                                ])"
      ],
      "metadata": {
        "id": "z6Z7rmkgE3Zb"
      },
      "id": "z6Z7rmkgE3Zb",
      "execution_count": null,
      "outputs": []
    },
    {
      "cell_type": "code",
      "source": [
        "vgg_model.compile(loss=\"categorical_crossentropy\",\n",
        "              optimizer='adam',\n",
        "              metrics=[\"accuracy\"])"
      ],
      "metadata": {
        "id": "lNKBSAUIE3qG"
      },
      "id": "lNKBSAUIE3qG",
      "execution_count": null,
      "outputs": []
    },
    {
      "cell_type": "code",
      "source": [
        "vgg_model.summary()"
      ],
      "metadata": {
        "id": "dMjWkG0fE3zx"
      },
      "id": "dMjWkG0fE3zx",
      "execution_count": null,
      "outputs": []
    },
    {
      "cell_type": "code",
      "source": [
        "tf.keras.utils.plot_model(vgg_model,\"vgg_model.png\",show_shapes=True)"
      ],
      "metadata": {
        "id": "e6FuN07ZE37w"
      },
      "id": "e6FuN07ZE37w",
      "execution_count": null,
      "outputs": []
    },
    {
      "cell_type": "code",
      "execution_count": null,
      "metadata": {
        "id": "f8c75487",
        "scrolled": true,
        "colab": {
          "base_uri": "https://localhost:8080/"
        },
        "outputId": "99079d73-dfb9-4a47-fd3d-689b9adde4e4"
      },
      "outputs": [
        {
          "output_type": "stream",
          "name": "stdout",
          "text": [
            "Downloading data from https://storage.googleapis.com/tensorflow/keras-applications/vgg16/vgg16_weights_tf_dim_ordering_tf_kernels_notop.h5\n",
            "58892288/58889256 [==============================] - 0s 0us/step\n",
            "58900480/58889256 [==============================] - 0s 0us/step\n"
          ]
        }
      ],
      "source": [
        "vgg_model.fit(X_train, y_train,\n",
        "          batch_size=64,\n",
        "          epochs = 30,\n",
        "          validation_data=(X_valid, y_valid),\n",
        "          verbose = 1)"
      ],
      "id": "f8c75487"
    },
    {
      "cell_type": "code",
      "execution_count": null,
      "metadata": {
        "id": "b4aae39b"
      },
      "outputs": [],
      "source": [
        "y_pred = vgg_model.predict(X_test)"
      ],
      "id": "b4aae39b"
    },
    {
      "cell_type": "code",
      "execution_count": null,
      "metadata": {
        "id": "1f0cc8cd"
      },
      "outputs": [],
      "source": [
        "y_pred_n = list(map(lambda x: np.argmax(x), y_pred))\n",
        "y_test_n = list(map(lambda x: np.argmax(x), y_test))"
      ],
      "id": "1f0cc8cd"
    },
    {
      "cell_type": "code",
      "execution_count": null,
      "metadata": {
        "colab": {
          "base_uri": "https://localhost:8080/"
        },
        "id": "4f8d0336",
        "outputId": "5c2e4133-c39a-461e-ba44-fc493424b662"
      },
      "outputs": [
        {
          "output_type": "stream",
          "name": "stdout",
          "text": [
            "Model: \"sequential_2\"\n",
            "_________________________________________________________________\n",
            " Layer (type)                Output Shape              Param #   \n",
            "=================================================================\n",
            " vgg16 (Functional)          (None, 512)               14714688  \n",
            "                                                                 \n",
            " dense_2 (Dense)             (None, 20)                10260     \n",
            "                                                                 \n",
            "=================================================================\n",
            "Total params: 14,724,948\n",
            "Trainable params: 14,724,948\n",
            "Non-trainable params: 0\n",
            "_________________________________________________________________\n"
          ]
        }
      ],
      "source": [
        "vgg_acc = acc(y_pred_n, y_test_n)"
      ],
      "id": "4f8d0336"
    },
    {
      "cell_type": "code",
      "source": [
        "vgg_model.save(\"vgg16.h5\")"
      ],
      "metadata": {
        "id": "KkxRZFO0LbMM"
      },
      "id": "KkxRZFO0LbMM",
      "execution_count": null,
      "outputs": []
    },
    {
      "cell_type": "markdown",
      "source": [
        "<h1>Plotting accuracy</h1>"
      ],
      "metadata": {
        "id": "MfjsNc2xNCaa"
      },
      "id": "MfjsNc2xNCaa"
    },
    {
      "cell_type": "code",
      "execution_count": 21,
      "metadata": {
        "id": "WzSYPCKC_R7U",
        "colab": {
          "base_uri": "https://localhost:8080/",
          "height": 269
        },
        "outputId": "05169a29-aaf1-4789-f8f3-0f61a4a7a0af"
      },
      "outputs": [
        {
          "output_type": "execute_result",
          "data": {
            "text/plain": [
              "<matplotlib.legend.Legend at 0x7f62ad2a0810>"
            ]
          },
          "metadata": {},
          "execution_count": 21
        },
        {
          "output_type": "display_data",
          "data": {
            "text/plain": [
              "<Figure size 432x288 with 1 Axes>"
            ],
            "image/png": "[encoded data removed]"
          },
          "metadata": {
            "needs_background": "light"
          }
        }
      ],
      "source": [
        "acc = [svc_acc,  my_cnn_acc, resnet_acc, vgg_acc]\n",
        "models = ['SVC', 'MY CNN', 'ResNet50', 'VGG16']\n",
        "\n",
        "plt.bar(models, acc)\n",
        "plt.ylim((0, 0.6))"
      ],
      "id": "WzSYPCKC_R7U"
    }
  ],
  "metadata": {
    "accelerator": "GPU",
    "colab": {
      "collapsed_sections": [],
      "name": "Untitled (4).ipynb",
      "provenance": []
    },
    "kernelspec": {
      "display_name": "Python 3 (ipykernel)",
      "language": "python",
      "name": "python3"
    },
    "language_info": {
      "codemirror_mode": {
        "name": "ipython",
        "version": 3
      },
      "file_extension": ".py",
      "mimetype": "text/x-python",
      "name": "python",
      "nbconvert_exporter": "python",
      "pygments_lexer": "ipython3",
      "version": "3.9.7"
    }
  },
  "nbformat": 4,
  "nbformat_minor": 5
}